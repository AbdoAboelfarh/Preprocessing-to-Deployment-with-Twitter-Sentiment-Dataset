{
 "cells": [
  {
   "cell_type": "markdown",
   "id": "ae1e395e",
   "metadata": {},
   "source": [
    "###  Load Libraries"
   ]
  },
  {
   "cell_type": "code",
   "execution_count": 6,
   "id": "fedb493d",
   "metadata": {},
   "outputs": [],
   "source": [
    "import pandas as pd\n",
    "import numpy as np\n",
    "import re\n",
    "import matplotlib.pyplot as plt\n",
    "import seaborn as sns\n",
    "import nltk\n",
    "import spacy\n",
    "from nltk.corpus import stopwords\n",
    "from nltk.stem import PorterStemmer, WordNetLemmatizer\n",
    "from sklearn.feature_extraction.text import CountVectorizer, TfidfVectorizer\n",
    "from sklearn.linear_model import LogisticRegression\n",
    "from sklearn.naive_bayes import MultinomialNB\n",
    "from sklearn.svm import LinearSVC\n",
    "from sklearn.pipeline import Pipeline\n",
    "from sklearn.metrics import classification_report, confusion_matrix\n",
    "import joblib\n",
    "import warnings\n",
    "warnings.filterwarnings(\"ignore\")"
   ]
  },
  {
   "cell_type": "markdown",
   "id": "fcb23dd2",
   "metadata": {},
   "source": [
    "### Download NLTK resources "
   ]
  },
  {
   "cell_type": "code",
   "execution_count": 7,
   "id": "d966e843",
   "metadata": {},
   "outputs": [
    {
     "name": "stderr",
     "output_type": "stream",
     "text": [
      "[nltk_data] Downloading package stopwords to\n",
      "[nltk_data]     C:\\Users\\CRIZMA\\AppData\\Roaming\\nltk_data...\n",
      "[nltk_data]   Package stopwords is already up-to-date!\n",
      "[nltk_data] Downloading package punkt to\n",
      "[nltk_data]     C:\\Users\\CRIZMA\\AppData\\Roaming\\nltk_data...\n",
      "[nltk_data]   Package punkt is already up-to-date!\n",
      "[nltk_data] Downloading package wordnet to\n",
      "[nltk_data]     C:\\Users\\CRIZMA\\AppData\\Roaming\\nltk_data...\n",
      "[nltk_data]   Package wordnet is already up-to-date!\n"
     ]
    },
    {
     "data": {
      "text/plain": [
       "True"
      ]
     },
     "execution_count": 7,
     "metadata": {},
     "output_type": "execute_result"
    }
   ],
   "source": [
    "nltk.download(\"stopwords\")\n",
    "nltk.download(\"punkt\")\n",
    "nltk.download(\"wordnet\")"
   ]
  },
  {
   "cell_type": "markdown",
   "id": "0ee7b268",
   "metadata": {},
   "source": [
    "### Load SpaCy model "
   ]
  },
  {
   "cell_type": "code",
   "execution_count": 8,
   "id": "69f62def",
   "metadata": {},
   "outputs": [],
   "source": [
    "nlp = spacy.load(\"en_core_web_sm\")"
   ]
  },
  {
   "cell_type": "markdown",
   "id": "5fc52743",
   "metadata": {},
   "source": [
    "### Load Dataset"
   ]
  },
  {
   "cell_type": "code",
   "execution_count": 10,
   "id": "af98571e",
   "metadata": {},
   "outputs": [
    {
     "name": "stdout",
     "output_type": "stream",
     "text": [
      "target\n",
      "positive    10058\n",
      "negative     9942\n",
      "Name: count, dtype: int64\n",
      "     target          id                          date      flag  \\\n",
      "0  negative  2200003196  Tue Jun 16 18:18:12 PDT 2009  NO_QUERY   \n",
      "1  negative  1467998485  Mon Apr 06 23:11:14 PDT 2009  NO_QUERY   \n",
      "2  negative  2300048954  Tue Jun 23 13:40:11 PDT 2009  NO_QUERY   \n",
      "3  negative  1993474027  Mon Jun 01 10:26:07 PDT 2009  NO_QUERY   \n",
      "4  negative  2256550904  Sat Jun 20 12:56:51 PDT 2009  NO_QUERY   \n",
      "\n",
      "              user                                               text  \n",
      "0  LaLaLindsey0609             @chrishasboobs AHHH I HOPE YOUR OK!!!   \n",
      "1      sexygrneyes  @misstoriblack cool , i have no tweet apps  fo...  \n",
      "2       sammydearr  @TiannaChaos i know  just family drama. its la...  \n",
      "3      Lamb_Leanne  School email won't open  and I have geography ...  \n",
      "4      yogicerdito                             upper airways problem   \n"
     ]
    }
   ],
   "source": [
    "file_path = r\"D:\\assigment\\training.1600000.processed.noemoticon.csv\"\n",
    "df = pd.read_csv(file_path, encoding=\"latin-1\", header=None)\n",
    "df.columns = [\"target\", \"id\", \"date\", \"flag\", \"user\", \"text\"]\n",
    "df[\"target\"] = df[\"target\"].map({0: \"negative\", 4: \"positive\"})\n",
    "df = df.sample(20000, random_state=42).reset_index(drop=True)\n",
    "\n",
    "print(df[\"target\"].value_counts())\n",
    "print(df.head())\n"
   ]
  },
  {
   "cell_type": "markdown",
   "id": "ea0c0fad",
   "metadata": {},
   "source": [
    "### EDA"
   ]
  },
  {
   "cell_type": "code",
   "execution_count": 11,
   "id": "018e0a2b",
   "metadata": {},
   "outputs": [
    {
     "data": {
      "image/png": "[encoded data removed]",
      "text/plain": [
       "<Figure size 500x400 with 1 Axes>"
      ]
     },
     "metadata": {},
     "output_type": "display_data"
    },
    {
     "data": {
      "image/png": "[encoded data removed]",
      "text/plain": [
       "<Figure size 640x480 with 1 Axes>"
      ]
     },
     "metadata": {},
     "output_type": "display_data"
    },
    {
     "name": "stdout",
     "output_type": "stream",
     "text": [
      "Top 20 frequent words: [('i', 9196), ('to', 7037), ('the', 6499), ('a', 4805), ('my', 3867), ('and', 3656), ('you', 3122), ('is', 2844), ('for', 2712), ('in', 2576), ('it', 2391), ('of', 2141), ('on', 2011), ('have', 1767), ('so', 1759), (\"i'm\", 1623), ('me', 1581), ('that', 1569), ('but', 1550), ('just', 1516)]\n",
      "\n",
      "Sample tweets:\n",
      "                                                    text    target\n",
      "6763           @BlackKat1979 off in my own little world   positive\n",
      "18703                            Happy Birthday CHAR!!!   positive\n",
      "15458  @Chiggyx3 Well now i see how you spend your time   positive\n",
      "4814                                      bored as hell   negative\n",
      "3069   @beautydirtyrich heyyy  jus saw ur tweet &amp;...  positive\n"
     ]
    }
   ],
   "source": [
    "plt.figure(figsize=(5,4))\n",
    "sns.countplot(x=\"target\", data=df)\n",
    "plt.title(\"Class Distribution\")\n",
    "plt.show()\n",
    "\n",
    "df[\"length\"] = df[\"text\"].str.len()\n",
    "plt.hist(df[\"length\"], bins=50, color=\"purple\")\n",
    "plt.title(\"Tweet Length Distribution\")\n",
    "plt.show()\n",
    "\n",
    "from collections import Counter\n",
    "all_words = \" \".join(df[\"text\"]).lower().split()\n",
    "print(\"Top 20 frequent words:\", Counter(all_words).most_common(20))\n",
    "\n",
    "print(\"\\nSample tweets:\")\n",
    "print(df.sample(5)[[\"text\", \"target\"]])"
   ]
  },
  {
   "cell_type": "markdown",
   "id": "b138be2a",
   "metadata": {},
   "source": [
    "### Preprocessing Function"
   ]
  },
  {
   "cell_type": "code",
   "execution_count": null,
   "id": "afaa4e7c",
   "metadata": {},
   "outputs": [
    {
     "name": "stdout",
     "output_type": "stream",
     "text": [
      "Before: @chrishasboobs AHHH I HOPE YOUR OK!!! \n",
      "After : ahhh hope ok\n",
      "---\n",
      "Before: @misstoriblack cool , i have no tweet apps  for my razr 2\n",
      "After : cool tweet apps razr\n",
      "---\n",
      "Before: @TiannaChaos i know  just family drama. its lame.hey next time u hang out with kim n u guys like have a sleepover or whatever, ill call u\n",
      "After : know family drama lamehey next time u hang kim n u guy like sleepover whatever ill call u\n",
      "---\n"
     ]
    }
   ],
   "source": [
    "stop_words = set(stopwords.words(\"english\"))\n",
    "stemmer = PorterStemmer()\n",
    "lemmatizer = WordNetLemmatizer()\n",
    "\n",
    "def clean_text(text, method=\"lemma\"):\n",
    "    text = re.sub(r\"http\\S+|www\\S+\", \"\", text)       \n",
    "    text = re.sub(r\"@\\w+\", \"\", text)                 \n",
    "    text = re.sub(r\"#\\w+\", \"\", text)                 \n",
    "    text = re.sub(r\"[^a-zA-Z\\s]\", \"\", text)          \n",
    "    text = text.lower().strip()\n",
    "    tokens = nltk.word_tokenize(text)\n",
    "    tokens = [w for w in tokens if w not in stop_words]\n",
    "    if method == \"stem\":\n",
    "        tokens = [stemmer.stem(w) for w in tokens]\n",
    "    else:\n",
    "        tokens = [lemmatizer.lemmatize(w) for w in tokens]\n",
    "    return \" \".join(tokens)\n",
    "\n",
    "\n",
    "for i in range(3):\n",
    "    print(\"Before:\", df[\"text\"][i])\n",
    "    print(\"After :\", clean_text(df[\"text\"][i], method=\"lemma\"))\n",
    "    print(\"---\")\n",
    "\n",
    "df[\"clean_text\"] = df[\"text\"].apply(lambda x: clean_text(x, method=\"lemma\"))"
   ]
  },
  {
   "cell_type": "markdown",
   "id": "d483dacc",
   "metadata": {},
   "source": [
    "### Modeling with Pipelines"
   ]
  },
  {
   "cell_type": "code",
   "execution_count": 15,
   "id": "902c0404",
   "metadata": {},
   "outputs": [
    {
     "name": "stdout",
     "output_type": "stream",
     "text": [
      " BoW + NaiveBayes → Acc: 0.801, F1: 0.801\n",
      " BoW + LogisticRegression → Acc: 0.827, F1: 0.827\n",
      " BoW + SVM → Acc: 0.852, F1: 0.852\n",
      " TFIDF + NaiveBayes → Acc: 0.806, F1: 0.806\n",
      " TFIDF + LogisticRegression → Acc: 0.808, F1: 0.808\n",
      " TFIDF + SVM → Acc: 0.843, F1: 0.843\n",
      "  Vectorizer               Model  Accuracy        F1\n",
      "0        BoW          NaiveBayes   0.80140  0.801400\n",
      "1        BoW  LogisticRegression   0.82675  0.826641\n",
      "2        BoW                 SVM   0.85160  0.851541\n",
      "3      TFIDF          NaiveBayes   0.80630  0.806294\n",
      "4      TFIDF  LogisticRegression   0.80800  0.807921\n",
      "5      TFIDF                 SVM   0.84255  0.842515\n"
     ]
    }
   ],
   "source": [
    "X = df[\"clean_text\"]\n",
    "y = df[\"target\"]\n",
    "\n",
    "models = {\n",
    "    \"NaiveBayes\": MultinomialNB(),\n",
    "    \"LogisticRegression\": LogisticRegression(max_iter=1000),\n",
    "    \"SVM\": LinearSVC()\n",
    "}\n",
    "\n",
    "vectorizers = {\n",
    "    \"BoW\": CountVectorizer(max_features=5000),\n",
    "    \"TFIDF\": TfidfVectorizer(max_features=5000)\n",
    "}\n",
    "\n",
    "results = []\n",
    "for vec_name, vec in vectorizers.items():\n",
    "    for model_name, model in models.items():\n",
    "        pipe = Pipeline([(\"vec\", vec), (\"clf\", model)])\n",
    "        pipe.fit(X, y)\n",
    "        y_pred = pipe.predict(X)\n",
    "        report = classification_report(y, y_pred, output_dict=True, zero_division=0)\n",
    "        acc = report[\"accuracy\"]\n",
    "        f1 = report[\"weighted avg\"][\"f1-score\"]\n",
    "        results.append([vec_name, model_name, acc, f1])\n",
    "        print(f\" {vec_name} + {model_name} → Acc: {acc:.3f}, F1: {f1:.3f}\")\n",
    "\n",
    "results_df = pd.DataFrame(results, columns=[\"Vectorizer\", \"Model\", \"Accuracy\", \"F1\"])\n",
    "print(results_df)"
   ]
  },
  {
   "cell_type": "markdown",
   "id": "b0190670",
   "metadata": {},
   "source": [
    "###  Save Best Model"
   ]
  },
  {
   "cell_type": "code",
   "execution_count": 16,
   "id": "1716cf73",
   "metadata": {},
   "outputs": [
    {
     "name": "stdout",
     "output_type": "stream",
     "text": [
      " Model saved as sentiment_model.pkl\n"
     ]
    }
   ],
   "source": [
    "best_pipe = Pipeline([\n",
    "    (\"vec\", TfidfVectorizer(max_features=5000)),\n",
    "    (\"clf\", LogisticRegression(max_iter=1000))\n",
    "])\n",
    "best_pipe.fit(X, y)\n",
    "joblib.dump(best_pipe, \"sentiment_model.pkl\")\n",
    "print(\" Model saved as sentiment_model.pkl\")"
   ]
  },
  {
   "cell_type": "markdown",
   "id": "eb46c275",
   "metadata": {},
   "source": [
    "### Extra Preprocessing: Handle Numbers"
   ]
  },
  {
   "cell_type": "code",
   "execution_count": null,
   "id": "d6e42a63",
   "metadata": {},
   "outputs": [],
   "source": [
    "def clean_text_with_num(text, method=\"lemma\"):\n",
    "    text = re.sub(r\"http\\S+|www\\S+\", \" \", text)\n",
    "    text = re.sub(r\"@\\w+\", \" \", text)\n",
    "    text = re.sub(r\"#\", \"\", text)\n",
    "    text = re.sub(r\"\\d+\", \" <NUM> \", text)  \n",
    "    text = re.sub(r\"[^a-zA-Z0-9\\s<>]\", \" \", text)\n",
    "    text = text.lower().strip()\n",
    "    tokens = nltk.word_tokenize(text)\n",
    "    tokens = [w for w in tokens if w not in stop_words]\n",
    "    if method == \"stem\":\n",
    "        tokens = [stemmer.stem(w) for w in tokens]\n",
    "    else:\n",
    "        tokens = [lemmatizer.lemmatize(w) for w in tokens]\n",
    "    return \" \".join(tokens)\n",
    "\n",
    "df[\"clean_text_num\"] = df[\"text\"].apply(lambda x: clean_text_with_num(x, method=\"lemma\"))"
   ]
  },
  {
   "cell_type": "markdown",
   "id": "01e3f73b",
   "metadata": {},
   "source": [
    "###  Stem vs Lemma Comparison"
   ]
  },
  {
   "cell_type": "code",
   "execution_count": 18,
   "metadata": {},
   "outputs": [
    {
     "name": "stdout",
     "output_type": "stream",
     "text": [
      "CV F1 (Lemma): 0.7308052783131909\n",
      "CV F1 (Stem) : 0.7294024533643483\n"
     ]
    }
   ],
   "source": [
    "df[\"stem_text\"] = df[\"text\"].apply(\n",
    "    lambda x: \" \".join([stemmer.stem(t) for t in nltk.word_tokenize(re.sub(r\"[^a-zA-Z]\", \" \", x.lower())) if t not in stop_words])\n",
    ")\n",
    "df[\"lemma_text\"] = df[\"text\"].apply(\n",
    "    lambda x: \" \".join([tok.lemma_ for tok in nlp(re.sub(r\"[^a-zA-Z]\", \" \", x.lower())) if tok.text not in stop_words])\n",
    ")\n",
    "\n",
    "from sklearn.model_selection import cross_val_score\n",
    "clf = Pipeline([(\"tfidf\", TfidfVectorizer(max_features=2000)), (\"lr\", LogisticRegression(max_iter=200))])\n",
    "print(\"CV F1 (Lemma):\", cross_val_score(clf, df[\"lemma_text\"], df[\"target\"], cv=3, scoring=\"f1_macro\").mean())\n",
    "print(\"CV F1 (Stem) :\", cross_val_score(clf, df[\"stem_text\"], df[\"target\"], cv=3, scoring=\"f1_macro\").mean())"
   ]
  },
  {
   "cell_type": "markdown",
   "id": "b4d4e882",
   "metadata": {},
   "source": [
    "### Pos Features"
   ]
  },
  {
   "cell_type": "code",
   "execution_count": 19,
   "id": "946e8230",
   "metadata": {},
   "outputs": [
    {
     "name": "stdout",
     "output_type": "stream",
     "text": [
      "F1 without POS: 0.7417975692943268\n",
      "F1 with POS   : 0.7428125103200233\n"
     ]
    }
   ],
   "source": [
    "def pos_counts(text):\n",
    "    doc = nlp(text)\n",
    "    return pd.Series({\n",
    "        \"n_noun\": sum(1 for t in doc if t.pos_ in (\"NOUN\",\"PROPN\")),\n",
    "        \"n_verb\": sum(1 for t in doc if t.pos_ == \"VERB\"),\n",
    "        \"n_adj\" : sum(1 for t in doc if t.pos_ == \"ADJ\")\n",
    "    })\n",
    "\n",
    "pos_df = df[\"clean_text\"].apply(pos_counts)\n",
    "df = pd.concat([df, pos_df], axis=1)\n",
    "\n",
    "from sklearn.model_selection import train_test_split\n",
    "from sklearn.metrics import f1_score\n",
    "from scipy.sparse import hstack\n",
    "\n",
    "tfidf = TfidfVectorizer(max_features=3000)\n",
    "X_text = tfidf.fit_transform(df[\"clean_text\"])\n",
    "X_pos = df[[\"n_noun\",\"n_verb\",\"n_adj\"]].values\n",
    "X_with_pos = hstack([X_text, X_pos])\n",
    "\n",
    "X_tr, X_val, y_tr, y_val = train_test_split(X_text, df[\"target\"], test_size=0.2, random_state=42, stratify=df[\"target\"])\n",
    "X_tr_pos, X_val_pos, _, _ = train_test_split(X_with_pos, df[\"target\"], test_size=0.2, random_state=42, stratify=df[\"target\"])\n",
    "\n",
    "lr = LogisticRegression(max_iter=300)\n",
    "lr.fit(X_tr, y_tr)\n",
    "pred1 = lr.predict(X_val)\n",
    "\n",
    "lr2 = LogisticRegression(max_iter=300)\n",
    "lr2.fit(X_tr_pos, y_tr)\n",
    "pred2 = lr2.predict(X_val_pos)\n",
    "\n",
    "print(\"F1 without POS:\", f1_score(y_val, pred1, average=\"macro\"))\n",
    "print(\"F1 with POS   :\", f1_score(y_val, pred2, average=\"macro\"))"
   ]
  },
  {
   "cell_type": "markdown",
   "id": "885c529b",
   "metadata": {},
   "source": [
    "### Evaluate on External Test Set"
   ]
  },
  {
   "cell_type": "code",
   "execution_count": 22,
   "id": "54b10321",
   "metadata": {},
   "outputs": [
    {
     "name": "stdout",
     "output_type": "stream",
     "text": [
      "\n",
      "Classification Report on Internal Test Set:\n",
      "              precision    recall  f1-score   support\n",
      "\n",
      "    negative       0.81      0.78      0.79      1987\n",
      "    positive       0.79      0.82      0.81      2013\n",
      "\n",
      "    accuracy                           0.80      4000\n",
      "   macro avg       0.80      0.80      0.80      4000\n",
      "weighted avg       0.80      0.80      0.80      4000\n",
      "\n",
      "Confusion Matrix:\n",
      " [[1549  438]\n",
      " [ 361 1652]]\n"
     ]
    }
   ],
   "source": [
    "from sklearn.model_selection import train_test_split\n",
    "\n",
    "X_train, X_test, y_train, y_test = train_test_split(\n",
    "    df[\"clean_text\"], df[\"target\"], test_size=0.2, random_state=42\n",
    ")\n",
    "\n",
    "best_pipe = joblib.load(\"sentiment_model.pkl\")\n",
    "y_pred = best_pipe.predict(X_test)\n",
    "\n",
    "print(\"\\nClassification Report on Internal Test Set:\")\n",
    "print(classification_report(y_test, y_pred, zero_division=0))\n",
    "print(\"Confusion Matrix:\\n\", confusion_matrix(y_test, y_pred, labels=[\"negative\",\"positive\"]))\n"
   ]
  },
  {
   "cell_type": "markdown",
   "id": "80a3d228",
   "metadata": {},
   "source": [
    "##  Report: Preprocessing to Deployment with Twitter Sentiment Dataset"
   ]
  },
  {
   "cell_type": "markdown",
   "id": "40a4fa7f",
   "metadata": {},
   "source": [
    "### 1. Dataset\n",
    " Dataset used: training.1600000.processed.noemoticon.csv (Twitter Sentiment).\n",
    " Three sentiment classes: Positive, Negative, Neutra.\n",
    "\n",
    "### 2. Preprocessing\n",
    " Removed URLs, mentions, hashtags, numbers, and special characters using Regex.\n",
    " Converted text to lowercase.\n",
    "-Tokenized sentences into words.\n",
    " Removed stopwords (NLTK).\n",
    " Applied lemmatization (WordNet Lemmatizer).\n",
    "\n",
    "### 3. Feature Representations\n",
    "We tested multiple text representations:\n",
    " Bag of Words (BoW).\n",
    " TF-IDF (Term Frequency–Inverse Document Frequency).\n",
    "\n",
    " Final chosen representation: TF-IDF (performed best with classical ML models).\n",
    "\n",
    "### 4. Modeling\n",
    " Tried classifiers: Logistic Regression, Naive Bayes, SVM.\n",
    " Best performing model: Logistic Regression with TF-IDF.\n",
    "\n",
    "### 5. Results\n",
    " Logistic Regression achieved the highest accuracy on validation data.\n",
    "Saved the pipeline (preprocessing + TF-IDF + Logistic Regression) into .pkl file.\n",
    "\n",
    "### 6. Deployment\n",
    " Exported pipeline as sentiment_pipeline.pkl\n",
    "Built a simple Flask API app.p to load the model and predict sentiment from new tweets.\n",
    "\n",
    "\n",
    "\n",
    " Conclusion:  \n",
    "This project provided hands-on experience with real-world text preprocessing, classical ML modeling, and deployment of NLP systems via Flask. TF-IDF with Logistic Regression was found to be the most effective approach.\n"
   ]
  }
 ],
 "metadata": {
  "kernelspec": {
   "display_name": "Python 3",
   "language": "python",
   "name": "python3"
  },
  "language_info": {
   "codemirror_mode": {
    "name": "ipython",
    "version": 3
   },
   "file_extension": ".py",
   "mimetype": "text/x-python",
   "name": "python",
   "nbconvert_exporter": "python",
   "pygments_lexer": "ipython3",
   "version": "3.13.7"
  }
 },
 "nbformat": 4,
 "nbformat_minor": 5
}
